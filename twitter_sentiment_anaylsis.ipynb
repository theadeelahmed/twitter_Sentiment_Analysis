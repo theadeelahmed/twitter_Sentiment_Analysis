{
 "cells": [
  {
   "cell_type": "code",
   "execution_count": 1,
   "id": "1fb621c2-2247-4f94-b28d-9b3ec546b769",
   "metadata": {},
   "outputs": [],
   "source": [
    "import pandas as pd                                          #import libraries\n",
    "import matplotlib.pyplot as plt \n",
    "import seaborn as sns "
   ]
  },
  {
   "cell_type": "code",
   "execution_count": 2,
   "id": "8559f8b9-c1eb-45b9-9800-d6bae5506904",
   "metadata": {},
   "outputs": [],
   "source": [
    "twitter = pd.read_csv('twitter_training.csv',header=None)"
   ]
  },
  {
   "cell_type": "code",
   "execution_count": 3,
   "id": "2208efe0-dbc3-4ee3-88c5-6ccef23afd29",
   "metadata": {},
   "outputs": [
    {
     "data": {
      "text/html": [
       "<div>\n",
       "<style scoped>\n",
       "    .dataframe tbody tr th:only-of-type {\n",
       "        vertical-align: middle;\n",
       "    }\n",
       "\n",
       "    .dataframe tbody tr th {\n",
       "        vertical-align: top;\n",
       "    }\n",
       "\n",
       "    .dataframe thead th {\n",
       "        text-align: right;\n",
       "    }\n",
       "</style>\n",
       "<table border=\"1\" class=\"dataframe\">\n",
       "  <thead>\n",
       "    <tr style=\"text-align: right;\">\n",
       "      <th></th>\n",
       "      <th>0</th>\n",
       "      <th>1</th>\n",
       "      <th>2</th>\n",
       "      <th>3</th>\n",
       "    </tr>\n",
       "  </thead>\n",
       "  <tbody>\n",
       "    <tr>\n",
       "      <th>0</th>\n",
       "      <td>2401</td>\n",
       "      <td>Borderlands</td>\n",
       "      <td>Positive</td>\n",
       "      <td>im getting on borderlands and i will murder yo...</td>\n",
       "    </tr>\n",
       "    <tr>\n",
       "      <th>1</th>\n",
       "      <td>2401</td>\n",
       "      <td>Borderlands</td>\n",
       "      <td>Positive</td>\n",
       "      <td>I am coming to the borders and I will kill you...</td>\n",
       "    </tr>\n",
       "    <tr>\n",
       "      <th>2</th>\n",
       "      <td>2401</td>\n",
       "      <td>Borderlands</td>\n",
       "      <td>Positive</td>\n",
       "      <td>im getting on borderlands and i will kill you ...</td>\n",
       "    </tr>\n",
       "  </tbody>\n",
       "</table>\n",
       "</div>"
      ],
      "text/plain": [
       "      0            1         2  \\\n",
       "0  2401  Borderlands  Positive   \n",
       "1  2401  Borderlands  Positive   \n",
       "2  2401  Borderlands  Positive   \n",
       "\n",
       "                                                   3  \n",
       "0  im getting on borderlands and i will murder yo...  \n",
       "1  I am coming to the borders and I will kill you...  \n",
       "2  im getting on borderlands and i will kill you ...  "
      ]
     },
     "execution_count": 3,
     "metadata": {},
     "output_type": "execute_result"
    }
   ],
   "source": [
    "twitter.head(3)"
   ]
  },
  {
   "cell_type": "code",
   "execution_count": 4,
   "id": "f7e9ce24-b808-4db0-b4dc-573c432ceb0d",
   "metadata": {},
   "outputs": [
    {
     "data": {
      "text/plain": [
       "(74682, 4)"
      ]
     },
     "execution_count": 4,
     "metadata": {},
     "output_type": "execute_result"
    }
   ],
   "source": [
    "twitter.shape"
   ]
  },
  {
   "cell_type": "code",
   "execution_count": 5,
   "id": "f1338575-8005-4e3d-adc3-c6c6deffe1c4",
   "metadata": {},
   "outputs": [
    {
     "name": "stdout",
     "output_type": "stream",
     "text": [
      "<class 'pandas.core.frame.DataFrame'>\n",
      "RangeIndex: 74682 entries, 0 to 74681\n",
      "Data columns (total 4 columns):\n",
      " #   Column  Non-Null Count  Dtype \n",
      "---  ------  --------------  ----- \n",
      " 0   0       74682 non-null  int64 \n",
      " 1   1       74682 non-null  object\n",
      " 2   2       74682 non-null  object\n",
      " 3   3       73996 non-null  object\n",
      "dtypes: int64(1), object(3)\n",
      "memory usage: 2.3+ MB\n"
     ]
    }
   ],
   "source": [
    "twitter.info()"
   ]
  },
  {
   "cell_type": "code",
   "execution_count": 6,
   "id": "01f3ec04-a8a7-488f-920c-6c790d6db4c2",
   "metadata": {},
   "outputs": [
    {
     "data": {
      "text/plain": [
       "0      0\n",
       "1      0\n",
       "2      0\n",
       "3    686\n",
       "dtype: int64"
      ]
     },
     "execution_count": 6,
     "metadata": {},
     "output_type": "execute_result"
    }
   ],
   "source": [
    "twitter.isnull().sum()"
   ]
  },
  {
   "cell_type": "code",
   "execution_count": 7,
   "id": "0bfa5ef8-a8a1-4480-aea7-411376dab229",
   "metadata": {},
   "outputs": [],
   "source": [
    "twitter = twitter.dropna()"
   ]
  },
  {
   "cell_type": "code",
   "execution_count": 8,
   "id": "f36b5a20-9ccc-4217-8811-3c3371b1c4ac",
   "metadata": {},
   "outputs": [],
   "source": [
    "twitter = twitter.iloc[:,-1]   #seleting only text columns "
   ]
  },
  {
   "cell_type": "code",
   "execution_count": 9,
   "id": "b894637d-3f11-4397-a90c-0b707e43c8d5",
   "metadata": {},
   "outputs": [
    {
     "data": {
      "text/plain": [
       "0        im getting on borderlands and i will murder yo...\n",
       "1        I am coming to the borders and I will kill you...\n",
       "2        im getting on borderlands and i will kill you ...\n",
       "3        im coming on borderlands and i will murder you...\n",
       "4        im getting on borderlands 2 and i will murder ...\n",
       "                               ...                        \n",
       "74677    Just realized that the Windows partition of my...\n",
       "74678    Just realized that my Mac window partition is ...\n",
       "74679    Just realized the windows partition of my Mac ...\n",
       "74680    Just realized between the windows partition of...\n",
       "74681    Just like the windows partition of my Mac is l...\n",
       "Name: 3, Length: 73996, dtype: object"
      ]
     },
     "execution_count": 9,
     "metadata": {},
     "output_type": "execute_result"
    }
   ],
   "source": [
    "twitter"
   ]
  },
  {
   "cell_type": "code",
   "execution_count": 10,
   "id": "46199dfd-4d52-4b1f-b84e-90c7bcb821ff",
   "metadata": {},
   "outputs": [],
   "source": [
    "twitter = pd.Series(twitter,name=\"Review\")"
   ]
  },
  {
   "cell_type": "code",
   "execution_count": 11,
   "id": "60f7b81a-6b57-4941-af86-f8328671b0c0",
   "metadata": {},
   "outputs": [],
   "source": [
    "twitter = twitter.to_frame()"
   ]
  },
  {
   "cell_type": "code",
   "execution_count": 12,
   "id": "734d6b6f-909f-4328-adb9-c2009f05ad96",
   "metadata": {},
   "outputs": [
    {
     "data": {
      "text/html": [
       "<div>\n",
       "<style scoped>\n",
       "    .dataframe tbody tr th:only-of-type {\n",
       "        vertical-align: middle;\n",
       "    }\n",
       "\n",
       "    .dataframe tbody tr th {\n",
       "        vertical-align: top;\n",
       "    }\n",
       "\n",
       "    .dataframe thead th {\n",
       "        text-align: right;\n",
       "    }\n",
       "</style>\n",
       "<table border=\"1\" class=\"dataframe\">\n",
       "  <thead>\n",
       "    <tr style=\"text-align: right;\">\n",
       "      <th></th>\n",
       "      <th>Review</th>\n",
       "    </tr>\n",
       "  </thead>\n",
       "  <tbody>\n",
       "    <tr>\n",
       "      <th>0</th>\n",
       "      <td>im getting on borderlands and i will murder yo...</td>\n",
       "    </tr>\n",
       "    <tr>\n",
       "      <th>1</th>\n",
       "      <td>I am coming to the borders and I will kill you...</td>\n",
       "    </tr>\n",
       "    <tr>\n",
       "      <th>2</th>\n",
       "      <td>im getting on borderlands and i will kill you ...</td>\n",
       "    </tr>\n",
       "    <tr>\n",
       "      <th>3</th>\n",
       "      <td>im coming on borderlands and i will murder you...</td>\n",
       "    </tr>\n",
       "    <tr>\n",
       "      <th>4</th>\n",
       "      <td>im getting on borderlands 2 and i will murder ...</td>\n",
       "    </tr>\n",
       "    <tr>\n",
       "      <th>...</th>\n",
       "      <td>...</td>\n",
       "    </tr>\n",
       "    <tr>\n",
       "      <th>74677</th>\n",
       "      <td>Just realized that the Windows partition of my...</td>\n",
       "    </tr>\n",
       "    <tr>\n",
       "      <th>74678</th>\n",
       "      <td>Just realized that my Mac window partition is ...</td>\n",
       "    </tr>\n",
       "    <tr>\n",
       "      <th>74679</th>\n",
       "      <td>Just realized the windows partition of my Mac ...</td>\n",
       "    </tr>\n",
       "    <tr>\n",
       "      <th>74680</th>\n",
       "      <td>Just realized between the windows partition of...</td>\n",
       "    </tr>\n",
       "    <tr>\n",
       "      <th>74681</th>\n",
       "      <td>Just like the windows partition of my Mac is l...</td>\n",
       "    </tr>\n",
       "  </tbody>\n",
       "</table>\n",
       "<p>73996 rows × 1 columns</p>\n",
       "</div>"
      ],
      "text/plain": [
       "                                                  Review\n",
       "0      im getting on borderlands and i will murder yo...\n",
       "1      I am coming to the borders and I will kill you...\n",
       "2      im getting on borderlands and i will kill you ...\n",
       "3      im coming on borderlands and i will murder you...\n",
       "4      im getting on borderlands 2 and i will murder ...\n",
       "...                                                  ...\n",
       "74677  Just realized that the Windows partition of my...\n",
       "74678  Just realized that my Mac window partition is ...\n",
       "74679  Just realized the windows partition of my Mac ...\n",
       "74680  Just realized between the windows partition of...\n",
       "74681  Just like the windows partition of my Mac is l...\n",
       "\n",
       "[73996 rows x 1 columns]"
      ]
     },
     "execution_count": 12,
     "metadata": {},
     "output_type": "execute_result"
    }
   ],
   "source": [
    "twitter"
   ]
  },
  {
   "cell_type": "code",
   "execution_count": 13,
   "id": "925b943c-8312-4ec8-8b22-9c80cf42a9a2",
   "metadata": {},
   "outputs": [],
   "source": [
    "import nltk"
   ]
  },
  {
   "cell_type": "code",
   "execution_count": 14,
   "id": "b9192a1d-1d69-44c1-b2ca-6d5ffc687a4e",
   "metadata": {},
   "outputs": [],
   "source": [
    "from nltk.sentiment.vader import SentimentIntensityAnalyzer"
   ]
  },
  {
   "cell_type": "code",
   "execution_count": 15,
   "id": "6111d3e8-b551-4a45-b415-2f378c091042",
   "metadata": {},
   "outputs": [
    {
     "name": "stderr",
     "output_type": "stream",
     "text": [
      "[nltk_data] Downloading package vader_lexicon to C:\\Users\\USER-\n",
      "[nltk_data]     PC\\AppData\\Roaming\\nltk_data...\n",
      "[nltk_data]   Package vader_lexicon is already up-to-date!\n"
     ]
    },
    {
     "data": {
      "text/plain": [
       "True"
      ]
     },
     "execution_count": 15,
     "metadata": {},
     "output_type": "execute_result"
    }
   ],
   "source": [
    "nltk.download(\"vader_lexicon\")"
   ]
  },
  {
   "cell_type": "code",
   "execution_count": 16,
   "id": "867ffd2a-667f-4254-97bf-dcd6bad6fa0f",
   "metadata": {},
   "outputs": [],
   "source": [
    "sia = SentimentIntensityAnalyzer()"
   ]
  },
  {
   "cell_type": "code",
   "execution_count": 17,
   "id": "814374c6-14ac-4ca4-8a56-8fac12a3b499",
   "metadata": {},
   "outputs": [],
   "source": [
    "def calculate_sentiment(twitter):\n",
    "    # Get the sentiment scores for the review text\n",
    "    sentiment = sia.polarity_scores(twitter)\n",
    "    # Return the compound score, which is a normalized score between -1 (most negative) and 1 (most positive)\n",
    "    return sentiment['compound']"
   ]
  },
  {
   "cell_type": "code",
   "execution_count": 18,
   "id": "b9ec6800-e658-4dad-a202-6dec087fc76e",
   "metadata": {},
   "outputs": [
    {
     "name": "stdout",
     "output_type": "stream",
     "text": [
      "0.938\n"
     ]
    }
   ],
   "source": [
    "# test code\n",
    "testing = \"Wow! This new phone is amazing! Super fast, great battery life & an insane camera\"\n",
    "\n",
    "# Calculate sentiment\n",
    "print(calculate_sentiment(testing))"
   ]
  },
  {
   "cell_type": "code",
   "execution_count": 20,
   "id": "9811cd3d-8b8e-4457-a7d3-dbcafa72d50d",
   "metadata": {},
   "outputs": [
    {
     "name": "stdout",
     "output_type": "stream",
     "text": [
      "text: Had the best meal at this restaurant! Everything was so delicious & the service was top-notch.\n",
      "Compound Score: 0.8816\n",
      "\n",
      "text: Movie was okay, not as great as the trailer made it seem. Some parts were fun, but overall just average.\n",
      "Compound Score: 0.1162\n",
      "\n",
      "text: This update ruined the app! It keeps freezing & crashing. Fix this ASAP.\n",
      "Compound Score: -0.5848\n",
      "\n"
     ]
    }
   ],
   "source": [
    "#test\n",
    "texts = [                                                                \n",
    "        \"Had the best meal at this restaurant! Everything was so delicious & the service was top-notch.\",    #Positive  \n",
    "        \"Movie was okay, not as great as the trailer made it seem. Some parts were fun, but overall just average.\",     #neutral\n",
    "        \"This update ruined the app! It keeps freezing & crashing. Fix this ASAP.\"  #negative\n",
    "    \n",
    "]\n",
    "\n",
    "for text in texts:\n",
    "    scores =sia.polarity_scores(text)\n",
    "    print(f\"text: {text}\\nCompound Score: {scores['compound']}\\n\")"
   ]
  },
  {
   "cell_type": "code",
   "execution_count": 22,
   "id": "4e814b55-ae1e-4735-aa6d-7f04edaab04e",
   "metadata": {},
   "outputs": [
    {
     "data": {
      "text/html": [
       "<div>\n",
       "<style scoped>\n",
       "    .dataframe tbody tr th:only-of-type {\n",
       "        vertical-align: middle;\n",
       "    }\n",
       "\n",
       "    .dataframe tbody tr th {\n",
       "        vertical-align: top;\n",
       "    }\n",
       "\n",
       "    .dataframe thead th {\n",
       "        text-align: right;\n",
       "    }\n",
       "</style>\n",
       "<table border=\"1\" class=\"dataframe\">\n",
       "  <thead>\n",
       "    <tr style=\"text-align: right;\">\n",
       "      <th></th>\n",
       "      <th>Review</th>\n",
       "      <th>SentimentScore</th>\n",
       "    </tr>\n",
       "  </thead>\n",
       "  <tbody>\n",
       "    <tr>\n",
       "      <th>0</th>\n",
       "      <td>im getting on borderlands and i will murder yo...</td>\n",
       "      <td>-0.6908</td>\n",
       "    </tr>\n",
       "    <tr>\n",
       "      <th>1</th>\n",
       "      <td>I am coming to the borders and I will kill you...</td>\n",
       "      <td>-0.6908</td>\n",
       "    </tr>\n",
       "    <tr>\n",
       "      <th>2</th>\n",
       "      <td>im getting on borderlands and i will kill you ...</td>\n",
       "      <td>-0.6908</td>\n",
       "    </tr>\n",
       "    <tr>\n",
       "      <th>3</th>\n",
       "      <td>im coming on borderlands and i will murder you...</td>\n",
       "      <td>-0.6908</td>\n",
       "    </tr>\n",
       "    <tr>\n",
       "      <th>4</th>\n",
       "      <td>im getting on borderlands 2 and i will murder ...</td>\n",
       "      <td>-0.6908</td>\n",
       "    </tr>\n",
       "    <tr>\n",
       "      <th>...</th>\n",
       "      <td>...</td>\n",
       "      <td>...</td>\n",
       "    </tr>\n",
       "    <tr>\n",
       "      <th>74677</th>\n",
       "      <td>Just realized that the Windows partition of my...</td>\n",
       "      <td>0.0772</td>\n",
       "    </tr>\n",
       "    <tr>\n",
       "      <th>74678</th>\n",
       "      <td>Just realized that my Mac window partition is ...</td>\n",
       "      <td>-0.2960</td>\n",
       "    </tr>\n",
       "    <tr>\n",
       "      <th>74679</th>\n",
       "      <td>Just realized the windows partition of my Mac ...</td>\n",
       "      <td>-0.2960</td>\n",
       "    </tr>\n",
       "    <tr>\n",
       "      <th>74680</th>\n",
       "      <td>Just realized between the windows partition of...</td>\n",
       "      <td>0.0772</td>\n",
       "    </tr>\n",
       "    <tr>\n",
       "      <th>74681</th>\n",
       "      <td>Just like the windows partition of my Mac is l...</td>\n",
       "      <td>0.3687</td>\n",
       "    </tr>\n",
       "  </tbody>\n",
       "</table>\n",
       "<p>73996 rows × 2 columns</p>\n",
       "</div>"
      ],
      "text/plain": [
       "                                                  Review  SentimentScore\n",
       "0      im getting on borderlands and i will murder yo...         -0.6908\n",
       "1      I am coming to the borders and I will kill you...         -0.6908\n",
       "2      im getting on borderlands and i will kill you ...         -0.6908\n",
       "3      im coming on borderlands and i will murder you...         -0.6908\n",
       "4      im getting on borderlands 2 and i will murder ...         -0.6908\n",
       "...                                                  ...             ...\n",
       "74677  Just realized that the Windows partition of my...          0.0772\n",
       "74678  Just realized that my Mac window partition is ...         -0.2960\n",
       "74679  Just realized the windows partition of my Mac ...         -0.2960\n",
       "74680  Just realized between the windows partition of...          0.0772\n",
       "74681  Just like the windows partition of my Mac is l...          0.3687\n",
       "\n",
       "[73996 rows x 2 columns]"
      ]
     },
     "execution_count": 22,
     "metadata": {},
     "output_type": "execute_result"
    }
   ],
   "source": [
    "# Apply sentiment analysis to calculate sentiment scores for each review\n",
    "twitter['SentimentScore'] = twitter['Review'].apply(calculate_sentiment)\n",
    "twitter"
   ]
  },
  {
   "cell_type": "code",
   "execution_count": 25,
   "id": "1abe04a8-53a3-40cb-b667-7e79cab878bc",
   "metadata": {},
   "outputs": [],
   "source": [
    "# Define a function to bucket sentiment scores into text ranges\n",
    "def sentiment_bucket(score):\n",
    "    if score >= 0.5:\n",
    "        return '0.5 to 1.0'  # Strongly positive sentiment\n",
    "    elif 0.0 <= score < 0.5:\n",
    "        return '0.0 to 0.49'  # Mildly positive sentiment\n",
    "    elif -0.5 <= score < 0.0:\n",
    "        return '-0.49 to 0.0'  # Mildly negative sentiment\n",
    "    else:\n",
    "        return '-1.0 to -0.5'  # Strongly negative sentiment"
   ]
  },
  {
   "cell_type": "code",
   "execution_count": 26,
   "id": "2d12dd44-3e87-44d2-be9d-238480f88e22",
   "metadata": {},
   "outputs": [
    {
     "data": {
      "text/html": [
       "<div>\n",
       "<style scoped>\n",
       "    .dataframe tbody tr th:only-of-type {\n",
       "        vertical-align: middle;\n",
       "    }\n",
       "\n",
       "    .dataframe tbody tr th {\n",
       "        vertical-align: top;\n",
       "    }\n",
       "\n",
       "    .dataframe thead th {\n",
       "        text-align: right;\n",
       "    }\n",
       "</style>\n",
       "<table border=\"1\" class=\"dataframe\">\n",
       "  <thead>\n",
       "    <tr style=\"text-align: right;\">\n",
       "      <th></th>\n",
       "      <th>Review</th>\n",
       "      <th>SentimentScore</th>\n",
       "      <th>SentimentBucket</th>\n",
       "    </tr>\n",
       "  </thead>\n",
       "  <tbody>\n",
       "    <tr>\n",
       "      <th>0</th>\n",
       "      <td>im getting on borderlands and i will murder yo...</td>\n",
       "      <td>-0.6908</td>\n",
       "      <td>-1.0 to -0.5</td>\n",
       "    </tr>\n",
       "    <tr>\n",
       "      <th>1</th>\n",
       "      <td>I am coming to the borders and I will kill you...</td>\n",
       "      <td>-0.6908</td>\n",
       "      <td>-1.0 to -0.5</td>\n",
       "    </tr>\n",
       "    <tr>\n",
       "      <th>2</th>\n",
       "      <td>im getting on borderlands and i will kill you ...</td>\n",
       "      <td>-0.6908</td>\n",
       "      <td>-1.0 to -0.5</td>\n",
       "    </tr>\n",
       "    <tr>\n",
       "      <th>3</th>\n",
       "      <td>im coming on borderlands and i will murder you...</td>\n",
       "      <td>-0.6908</td>\n",
       "      <td>-1.0 to -0.5</td>\n",
       "    </tr>\n",
       "    <tr>\n",
       "      <th>4</th>\n",
       "      <td>im getting on borderlands 2 and i will murder ...</td>\n",
       "      <td>-0.6908</td>\n",
       "      <td>-1.0 to -0.5</td>\n",
       "    </tr>\n",
       "    <tr>\n",
       "      <th>...</th>\n",
       "      <td>...</td>\n",
       "      <td>...</td>\n",
       "      <td>...</td>\n",
       "    </tr>\n",
       "    <tr>\n",
       "      <th>74677</th>\n",
       "      <td>Just realized that the Windows partition of my...</td>\n",
       "      <td>0.0772</td>\n",
       "      <td>0.0 to 0.49</td>\n",
       "    </tr>\n",
       "    <tr>\n",
       "      <th>74678</th>\n",
       "      <td>Just realized that my Mac window partition is ...</td>\n",
       "      <td>-0.2960</td>\n",
       "      <td>-0.49 to 0.0</td>\n",
       "    </tr>\n",
       "    <tr>\n",
       "      <th>74679</th>\n",
       "      <td>Just realized the windows partition of my Mac ...</td>\n",
       "      <td>-0.2960</td>\n",
       "      <td>-0.49 to 0.0</td>\n",
       "    </tr>\n",
       "    <tr>\n",
       "      <th>74680</th>\n",
       "      <td>Just realized between the windows partition of...</td>\n",
       "      <td>0.0772</td>\n",
       "      <td>0.0 to 0.49</td>\n",
       "    </tr>\n",
       "    <tr>\n",
       "      <th>74681</th>\n",
       "      <td>Just like the windows partition of my Mac is l...</td>\n",
       "      <td>0.3687</td>\n",
       "      <td>0.0 to 0.49</td>\n",
       "    </tr>\n",
       "  </tbody>\n",
       "</table>\n",
       "<p>73996 rows × 3 columns</p>\n",
       "</div>"
      ],
      "text/plain": [
       "                                                  Review  SentimentScore  \\\n",
       "0      im getting on borderlands and i will murder yo...         -0.6908   \n",
       "1      I am coming to the borders and I will kill you...         -0.6908   \n",
       "2      im getting on borderlands and i will kill you ...         -0.6908   \n",
       "3      im coming on borderlands and i will murder you...         -0.6908   \n",
       "4      im getting on borderlands 2 and i will murder ...         -0.6908   \n",
       "...                                                  ...             ...   \n",
       "74677  Just realized that the Windows partition of my...          0.0772   \n",
       "74678  Just realized that my Mac window partition is ...         -0.2960   \n",
       "74679  Just realized the windows partition of my Mac ...         -0.2960   \n",
       "74680  Just realized between the windows partition of...          0.0772   \n",
       "74681  Just like the windows partition of my Mac is l...          0.3687   \n",
       "\n",
       "      SentimentBucket  \n",
       "0        -1.0 to -0.5  \n",
       "1        -1.0 to -0.5  \n",
       "2        -1.0 to -0.5  \n",
       "3        -1.0 to -0.5  \n",
       "4        -1.0 to -0.5  \n",
       "...               ...  \n",
       "74677     0.0 to 0.49  \n",
       "74678    -0.49 to 0.0  \n",
       "74679    -0.49 to 0.0  \n",
       "74680     0.0 to 0.49  \n",
       "74681     0.0 to 0.49  \n",
       "\n",
       "[73996 rows x 3 columns]"
      ]
     },
     "execution_count": 26,
     "metadata": {},
     "output_type": "execute_result"
    }
   ],
   "source": [
    "# Apply sentiment bucketing to categorize scores into defined ranges\n",
    "twitter['SentimentBucket'] = twitter['SentimentScore'].apply(sentiment_bucket)\n",
    "twitter"
   ]
  },
  {
   "cell_type": "code",
   "execution_count": 27,
   "id": "c145b4f5-0da7-491d-a7aa-6e6c0b5a06f6",
   "metadata": {},
   "outputs": [],
   "source": [
    "twitter.to_csv(\"facts_reviews_with_sentiment.csv\",index=False)"
   ]
  },
  {
   "cell_type": "code",
   "execution_count": 37,
   "id": "e9d887d2-a0a5-434e-8604-122004425a2a",
   "metadata": {},
   "outputs": [
    {
     "data": {
      "text/plain": [
       "SentimentBucket\n",
       "0.0 to 0.49     25612\n",
       "0.5 to 1.0      20997\n",
       "-1.0 to -0.5    15422\n",
       "-0.49 to 0.0    11965\n",
       "Name: count, dtype: int64"
      ]
     },
     "execution_count": 37,
     "metadata": {},
     "output_type": "execute_result"
    }
   ],
   "source": [
    "twitter['SentimentBucket'].value_counts()"
   ]
  },
  {
   "cell_type": "code",
   "execution_count": 45,
   "id": "6e5f8e39-68be-4928-9036-b8ed7b88d752",
   "metadata": {},
   "outputs": [
    {
     "data": {
      "image/png": "[encoded data removed]",
      "text/plain": [
       "<Figure size 1400x600 with 2 Axes>"
      ]
     },
     "metadata": {},
     "output_type": "display_data"
    }
   ],
   "source": [
    "# Define Sentiment Labels\n",
    "sentiment_map = {\n",
    "    \"-1.0 to -0.5\": \"Very Negative\",\n",
    "    \"-0.49 to 0.0\": \"Negative\",\n",
    "    \"0.0 to 0.49\": \"Neutral\",\n",
    "    \"0.5 to 1.0\": \"Positive\",\n",
    "    \"1.0 to 1.5\": \"Very Positive\"\n",
    "}\n",
    "\n",
    "# Replace index labels\n",
    "sentiment_counts = twitter['SentimentBucket'].value_counts()\n",
    "labels = [sentiment_map.get(str(lbl), lbl) for lbl in sentiment_counts.index]\n",
    "sizes = sentiment_counts.values\n",
    "colors = ['crimson', 'tomato', 'gold', 'dodgerblue', 'seagreen']\n",
    "\n",
    "# Create Subplots\n",
    "fig, axes = plt.subplots(1, 2, figsize=(14, 6))\n",
    "\n",
    "# **Bar Chart with English Labels**\n",
    "axes[0].bar(labels, sizes, color=colors)\n",
    "axes[0].set_title(\"Sentiment Category Distribution\", fontsize=14)\n",
    "axes[0].set_ylabel(\"Count\", fontsize=12)\n",
    "axes[0].set_xlabel(\"Sentiment Category\", fontsize=12)\n",
    "axes[0].tick_params(axis='x', rotation=45)\n",
    "\n",
    "# Add values inside bars\n",
    "for bar in axes[0].containers[0]:\n",
    "    axes[0].text(bar.get_x() + bar.get_width()/2, bar.get_height() + 1, str(bar.get_height()), \n",
    "                 ha='center', fontsize=12, fontweight='bold')\n",
    "\n",
    "# **Pie Chart with English Labels**\n",
    "axes[1].pie(sizes, labels=labels, autopct='%1.1f%%', colors=colors, startangle=140, shadow=True, wedgeprops={'edgecolor': 'black'})\n",
    "axes[1].set_title(\"Sentiment Percentage\", fontsize=14)\n",
    "\n",
    "# Adjust layout\n",
    "plt.tight_layout()\n",
    "plt.show()"
   ]
  },
  {
   "cell_type": "code",
   "execution_count": null,
   "id": "5ddfda8b-0eab-4e16-bbbb-95a937d84507",
   "metadata": {},
   "outputs": [],
   "source": []
  }
 ],
 "metadata": {
  "kernelspec": {
   "display_name": "Python 3 (ipykernel)",
   "language": "python",
   "name": "python3"
  },
  "language_info": {
   "codemirror_mode": {
    "name": "ipython",
    "version": 3
   },
   "file_extension": ".py",
   "mimetype": "text/x-python",
   "name": "python",
   "nbconvert_exporter": "python",
   "pygments_lexer": "ipython3",
   "version": "3.11.7"
  }
 },
 "nbformat": 4,
 "nbformat_minor": 5
}
